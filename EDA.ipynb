{
  "nbformat": 4,
  "nbformat_minor": 0,
  "metadata": {
    "colab": {
      "name": "Untitled0.ipynb",
      "provenance": [],
      "collapsed_sections": [],
      "mount_file_id": "1dhXWyV1xBByzFXfeGXu-tU66-9WMN9Io",
      "authorship_tag": "ABX9TyMUeuaTeEIWQkvCUoLF+V+0",
      "include_colab_link": true
    },
    "kernelspec": {
      "name": "python3",
      "display_name": "Python 3"
    },
    "language_info": {
      "name": "python"
    }
  },
  "cells": [
    {
      "cell_type": "markdown",
      "metadata": {
        "id": "view-in-github",
        "colab_type": "text"
      },
      "source": [
        "<a href=\"https://colab.research.google.com/github/nAz3626/Distribued-clustering-parking_violation-/blob/master/EDA.ipynb\" target=\"_parent\"><img src=\"https://colab.research.google.com/assets/colab-badge.svg\" alt=\"Open In Colab\"/></a>"
      ]
    },
    {
      "cell_type": "code",
      "execution_count": null,
      "metadata": {
        "id": "PaRVr4emLsXe"
      },
      "outputs": [],
      "source": [
        "import numpy as np # linear algebra\n",
        "import pandas as pd # data processing, CSV file I/O (e.g. pd.read_csv)\n",
        "\n",
        "# importing libraries \n",
        "\n",
        "import csv\n",
        "import matplotlib.pyplot as plt\n",
        "import seaborn as sns\n",
        "\n",
        "# Input data files are available in the \"../input/\" directory.\n",
        "# For example, running this (by clicking run or pressing Shift+Enter) will list the files in the input directory\n",
        "\n"
      ]
    },
    {
      "cell_type": "markdown",
      "source": [
        "# New Section"
      ],
      "metadata": {
        "id": "NyMN7hklX7MZ"
      }
    },
    {
      "cell_type": "code",
      "source": [
        "import os\n",
        "for dirname, _, filenames in os.walk('/kaggle/input'):\n",
        "    for filename in filenames:\n",
        "        print(os.path.join(dirname, filename))\n"
      ],
      "metadata": {
        "id": "HGH2sANQfh73"
      },
      "execution_count": null,
      "outputs": []
    },
    {
      "cell_type": "code",
      "source": [
        "!pip install pyspark"
      ],
      "metadata": {
        "colab": {
          "base_uri": "https://localhost:8080/"
        },
        "id": "IMqlFXRUfq4J",
        "outputId": "2aa7c5b3-3724-461f-c612-ab9a44d7eeaf"
      },
      "execution_count": null,
      "outputs": [
        {
          "output_type": "stream",
          "name": "stdout",
          "text": [
            "Looking in indexes: https://pypi.org/simple, https://us-python.pkg.dev/colab-wheels/public/simple/\n",
            "Collecting pyspark\n",
            "  Downloading pyspark-3.3.0.tar.gz (281.3 MB)\n",
            "\u001b[K     |████████████████████████████████| 281.3 MB 47 kB/s \n",
            "\u001b[?25hCollecting py4j==0.10.9.5\n",
            "  Downloading py4j-0.10.9.5-py2.py3-none-any.whl (199 kB)\n",
            "\u001b[K     |████████████████████████████████| 199 kB 50.9 MB/s \n",
            "\u001b[?25hBuilding wheels for collected packages: pyspark\n",
            "  Building wheel for pyspark (setup.py) ... \u001b[?25l\u001b[?25hdone\n",
            "  Created wheel for pyspark: filename=pyspark-3.3.0-py2.py3-none-any.whl size=281764026 sha256=fad51f1b8892cfe9bdffef9c81b6fb1d70a4b9dfff2acb84bc19147c5e372fed\n",
            "  Stored in directory: /root/.cache/pip/wheels/7a/8e/1b/f73a52650d2e5f337708d9f6a1750d451a7349a867f928b885\n",
            "Successfully built pyspark\n",
            "Installing collected packages: py4j, pyspark\n",
            "Successfully installed py4j-0.10.9.5 pyspark-3.3.0\n"
          ]
        }
      ]
    },
    {
      "cell_type": "code",
      "source": [
        "from pyspark.sql import SparkSession\n",
        "spark = SparkSession \\\n",
        "    .builder \\\n",
        "    .appName(\"EDA-Parking_violation\") \\\n",
        "    .getOrCreate()"
      ],
      "metadata": {
        "id": "ju4bZ3sAfwPa"
      },
      "execution_count": null,
      "outputs": []
    },
    {
      "cell_type": "code",
      "source": [
        "parking = spark.read.format(\"csv\").option(\"header\", \"true\").option(\"inferSchema\", \"true\").load('/Parking_Violations_Issued_-_Fiscal_Year_2017.csv')"
      ],
      "metadata": {
        "id": "ZuNblVVSfzT8"
      },
      "execution_count": null,
      "outputs": []
    },
    {
      "cell_type": "code",
      "source": [
        "# parking.head(10)\n",
        "parking.describe().show()"
      ],
      "metadata": {
        "colab": {
          "base_uri": "https://localhost:8080/"
        },
        "id": "Fo8EDuPtbckY",
        "outputId": "40a23c9d-ccde-4fcf-e4d8-ee829c9df680"
      },
      "execution_count": null,
      "outputs": [
        {
          "output_type": "stream",
          "name": "stdout",
          "text": [
            "+-------+-------------------+--------+------------------+----------+----------+------------------+------------------+------------+--------------+------------------+------------------+------------------+-----------------------+------------------+------------------+-----------------+------------------+------------------+------------+--------------+-------------------+----------------+---------------------------------+------------------+------------------+-------------------+-------------------+-----------------+------------------+--------------------+--------------------------+--------------------+------------------+-------------+---------------------+-----------------+------------+-------------------+-------------------+---------------------+---------------------------------+-----------------+------------------------+\n",
            "|summary|     Summons Number|Plate ID|Registration State|Plate Type|Issue Date|    Violation Code| Vehicle Body Type|Vehicle Make|Issuing Agency|      Street Code1|      Street Code2|      Street Code3|Vehicle Expiration Date|Violation Location|Violation Precinct|  Issuer Precinct|       Issuer Code|    Issuer Command|Issuer Squad|Violation Time|Time First Observed|Violation County|Violation In Front Of Or Opposite|      House Number|       Street Name|Intersecting Street|Date First Observed|      Law Section|      Sub Division|Violation Legal Code|Days Parking In Effect    |From Hours In Effect|To Hours In Effect|Vehicle Color|Unregistered Vehicle?|     Vehicle Year|Meter Number|     Feet From Curb|Violation Post Code|Violation Description|No Standing or Stopping Violation|Hydrant Violation|Double Parking Violation|\n",
            "+-------+-------------------+--------+------------------+----------+----------+------------------+------------------+------------+--------------+------------------+------------------+------------------+-----------------------+------------------+------------------+-----------------+------------------+------------------+------------+--------------+-------------------+----------------+---------------------------------+------------------+------------------+-------------------+-------------------+-----------------+------------------+--------------------+--------------------------+--------------------+------------------+-------------+---------------------+-----------------+------------+-------------------+-------------------+---------------------+---------------------------------+-----------------+------------------------+\n",
            "|  count|              70460|   70460|             70460|     70460|     70460|             70460|             70201|       69985|         70460|             70460|             70460|             70460|                  70460|             57419|             70460|            70460|             70460|             57501|       57494|         70460|               5567|           70227|                            56858|             56009|             70435|              21480|              70459|            70459|             70458|               12959|                     53198|               35233|             35233|        69530|                 7196|            70459|       11608|              70459|              50304|                63266|                                0|                0|                       0|\n",
            "|   mean|6.858015778021927E9|Infinity|              99.0|     999.0|      null| 34.80334941810957|  3.96309963099631|        null|          null|24108.760133409025|20379.311722963383|20476.650553505537|    2.483652195445643E7| 55.50612166704401|45.232841328413286|46.78732614249219|338194.86666193587|101.02613452188007|         0.0|          null|               null|            null|                             null|1132.8987081023345|120.33333333333333|              145.5| 456757.18363871187|546.1141372997062|              80.4|                null|                      null|   820.3846153846154| 802.3684210526316|         null|                  0.0|1571.334705289601|        null|0.11825316850934586| 27.033721260289525|                 null|                             null|             null|                    null|\n",
            "| stddev|2.303119042485779E9|     NaN|               0.0|       0.0|      null|19.349322364975112|0.4111005838440277|        null|          null|22686.210096875464| 21813.48451825984|21991.905334230334|   2.6237286863069437E7| 37.90665137554332| 40.44325960590447|60.77109641632647|221890.66735066788|  184.529282376638|         0.0|          null|               null|            null|                             null| 1857.994518868262|102.56867618007621| 53.033008588991066| 3000302.2369447555|291.2495884552997|37.849611668394644|                null|                      null|  103.74895736269427|289.80360740975925|         null|                  0.0|830.1847435120884|        null| 0.8210962310794577| 25.156085889774438|                 null|                             null|             null|                    null|\n",
            "|    min|         1131601361|   #1MOM|                99|       999|01/01/2017|                 1|              12PU|       ACURA|             B|                 0|                 0|                 0|                      0|                 1|                 0|                0|                 0|              0000|        0000|         0000A|              0032A|              BK|                                F|                 0|             1 AVE|   (E/B) @ 108TH ST|                  0|              408|                11|                   T|                   BBBBBBB|               0000A|              0100|          B;L|                    0|                0|           -|                  0|                001| 01-No Intercity P...|                             null|             null|                    null|\n",
            "|    max|         8585450370|  ZZW34S|                WY|       VAS|12/31/2016|                99|               WIS|        ZUMA|             X|             97940|             98260|             98100|               88888888|               141|               141|              985|            999992|              TX71|           Z|         1259P|              2200P|              ST|                                X|                 W|       Zulette Ave|staten island ferry|           20170928|             1180|                 p|                   T|                   YYYYYYY|                 ALL|               ALL|          YWW|                    0|             2069|    777-7777|                 13|               Z3 2| PHTO SCHOOL ZN SP...|                             null|             null|                    null|\n",
            "+-------+-------------------+--------+------------------+----------+----------+------------------+------------------+------------+--------------+------------------+------------------+------------------+-----------------------+------------------+------------------+-----------------+------------------+------------------+------------+--------------+-------------------+----------------+---------------------------------+------------------+------------------+-------------------+-------------------+-----------------+------------------+--------------------+--------------------------+--------------------+------------------+-------------+---------------------+-----------------+------------+-------------------+-------------------+---------------------+---------------------------------+-----------------+------------------------+\n",
            "\n"
          ]
        }
      ]
    },
    {
      "cell_type": "code",
      "source": [
        "parking.printSchema()\n"
      ],
      "metadata": {
        "colab": {
          "base_uri": "https://localhost:8080/"
        },
        "id": "E-0Kk6JMg_Da",
        "outputId": "d269d224-ccab-4107-fbd3-b01fb7bcf0de"
      },
      "execution_count": null,
      "outputs": [
        {
          "output_type": "stream",
          "name": "stdout",
          "text": [
            "root\n",
            " |-- Summons Number: long (nullable = true)\n",
            " |-- Plate ID: string (nullable = true)\n",
            " |-- Registration State: string (nullable = true)\n",
            " |-- Plate Type: string (nullable = true)\n",
            " |-- Issue Date: string (nullable = true)\n",
            " |-- Violation Code: integer (nullable = true)\n",
            " |-- Vehicle Body Type: string (nullable = true)\n",
            " |-- Vehicle Make: string (nullable = true)\n",
            " |-- Issuing Agency: string (nullable = true)\n",
            " |-- Street Code1: integer (nullable = true)\n",
            " |-- Street Code2: integer (nullable = true)\n",
            " |-- Street Code3: integer (nullable = true)\n",
            " |-- Vehicle Expiration Date: integer (nullable = true)\n",
            " |-- Violation Location: integer (nullable = true)\n",
            " |-- Violation Precinct: integer (nullable = true)\n",
            " |-- Issuer Precinct: integer (nullable = true)\n",
            " |-- Issuer Code: integer (nullable = true)\n",
            " |-- Issuer Command: string (nullable = true)\n",
            " |-- Issuer Squad: string (nullable = true)\n",
            " |-- Violation Time: string (nullable = true)\n",
            " |-- Time First Observed: string (nullable = true)\n",
            " |-- Violation County: string (nullable = true)\n",
            " |-- Violation In Front Of Or Opposite: string (nullable = true)\n",
            " |-- House Number: string (nullable = true)\n",
            " |-- Street Name: string (nullable = true)\n",
            " |-- Intersecting Street: string (nullable = true)\n",
            " |-- Date First Observed: integer (nullable = true)\n",
            " |-- Law Section: integer (nullable = true)\n",
            " |-- Sub Division: string (nullable = true)\n",
            " |-- Violation Legal Code: string (nullable = true)\n",
            " |-- Days Parking In Effect    : string (nullable = true)\n",
            " |-- From Hours In Effect: string (nullable = true)\n",
            " |-- To Hours In Effect: string (nullable = true)\n",
            " |-- Vehicle Color: string (nullable = true)\n",
            " |-- Unregistered Vehicle?: integer (nullable = true)\n",
            " |-- Vehicle Year: integer (nullable = true)\n",
            " |-- Meter Number: string (nullable = true)\n",
            " |-- Feet From Curb: integer (nullable = true)\n",
            " |-- Violation Post Code: string (nullable = true)\n",
            " |-- Violation Description: string (nullable = true)\n",
            " |-- No Standing or Stopping Violation: string (nullable = true)\n",
            " |-- Hydrant Violation: string (nullable = true)\n",
            " |-- Double Parking Violation: string (nullable = true)\n",
            "\n"
          ]
        }
      ]
    },
    {
      "cell_type": "code",
      "source": [
        "#for checking Null values\n",
        "rows=parking.count()\n",
        "for c in parking.columns:\n",
        "  \n",
        "  print(c,parking.where(col(c).isNull()).count()*100/rows)"
      ],
      "metadata": {
        "colab": {
          "base_uri": "https://localhost:8080/"
        },
        "id": "3WSmEHqglCxw",
        "outputId": "fb2fab8f-88f2-4d3e-bc10-8103709f9eb6"
      },
      "execution_count": null,
      "outputs": [
        {
          "output_type": "execute_result",
          "data": {
            "text/plain": [
              "70460"
            ]
          },
          "metadata": {},
          "execution_count": 17
        }
      ]
    },
    {
      "cell_type": "code",
      "source": [
        "# print(parking.columns)\n",
        "pdf=parking.select('*')\n",
        "# pdf.dropna(how='all').show()\n",
        "\n",
        "# \n",
        "drop_columns=['Summons Number','Hydrant Violation','Double Parking Violation','No Standing or Stopping Violation','Time First Observed','Violation Legal Code','Unregistered Vehicle?','Meter Number']\n",
        "pdf=pdf.drop(*drop_columns)\n",
        "pdf.show(10)"
      ],
      "metadata": {
        "colab": {
          "base_uri": "https://localhost:8080/"
        },
        "id": "T7ssXeOzlWei",
        "outputId": "2be3d51e-62ba-4c63-cb46-e7c00b5e9793"
      },
      "execution_count": 60,
      "outputs": [
        {
          "output_type": "stream",
          "name": "stdout",
          "text": [
            "+--------+------------------+----------+----------+--------------+-----------------+------------+--------------+------------+------------+------------+-----------------------+------------------+------------------+---------------+-----------+--------------+------------+--------------+----------------+---------------------------------+------------+--------------------+--------------------+-------------------+-----------+------------+--------------------------+--------------------+------------------+-------------+------------+--------------+-------------------+---------------------+\n",
            "|Plate ID|Registration State|Plate Type|Issue Date|Violation Code|Vehicle Body Type|Vehicle Make|Issuing Agency|Street Code1|Street Code2|Street Code3|Vehicle Expiration Date|Violation Location|Violation Precinct|Issuer Precinct|Issuer Code|Issuer Command|Issuer Squad|Violation Time|Violation County|Violation In Front Of Or Opposite|House Number|         Street Name| Intersecting Street|Date First Observed|Law Section|Sub Division|Days Parking In Effect    |From Hours In Effect|To Hours In Effect|Vehicle Color|Vehicle Year|Feet From Curb|Violation Post Code|Violation Description|\n",
            "+--------+------------------+----------+----------+--------------+-----------------+------------+--------------+------------+------------+------------+-----------------------+------------------+------------------+---------------+-----------+--------------+------------+--------------+----------------+---------------------------------+------------+--------------------+--------------------+-------------------+-----------+------------+--------------------------+--------------------+------------------+-------------+------------+--------------+-------------------+---------------------+\n",
            "|  AP169V|                NJ|       PAS|02/22/2017|            18|             DELV|       INTER|             T|       10010|       18490|       18510|               88880088|                19|                19|             19|     356214|          T103|          CC|         0857A|              NY|                                F|        1456|             1st Ave|                null|                  0|        408|          f4|                     YYYYY|               0700A|             1000A|        OTHER|           0|             0|                CC1| 18-No Stand (bus ...|\n",
            "| 27527ME|                NY|       COM|01/27/2017|            74|             DELV|       INTER|             T|       37290|       16740|       16890|               20170930|               110|               110|            110|     357733|          T401|           A|         1006A|               Q|                                F|       81-24|            Broadway|                null|                  0|        408|          j2|                      null|                null|              null|           WH|        2003|             0|                 45| 74-Missing Displa...|\n",
            "|  530LAW|                FL|       PAS|07/23/2016|            20|             SUBN|       CITRO|             T|       73430|           0|           0|               20170688|                71|                71|             71|     343712|          T730|           A|         0746A|               K|                                I|           E|       Rochester Ave|30ft S/of Eastern Pk|                  0|        408|           d|                         Y|               0700A|             1000A|         GREY|           0|             0|               02 3| 20A-No Parking (N...|\n",
            "| GBP8071|                NY|       PAS|06/23/2017|            21|             4DSD|       HONDA|             T|       29690|       21698|       32595|               20180930|                30|                30|             30|     346020|          T103|          AA|         1123A|              NY|                                F|         534|        Riverside Dr|                null|                  0|        408|          d1|                      Y  Y|               1100A|             1230A|           BK|        2015|             0|                CC3| 21-No Parking (st...|\n",
            "| HAR2738|                NY|       PAS|06/15/2017|            36|             SUBN|       CHEVR|             V|           0|           0|           0|                      0|              null|                 0|              0|          0|          null|        null|         0820A|              QN|                             null|        null|EB HILLSIDE AVE @ MA|              NOR RD|                  0|       1180|           B|                      null|                null|              null|           BK|        2015|             0|               null| PHTO SCHOOL ZN SP...|\n",
            "| EHN4305|                NC|       PAS|02/16/2017|            36|               MP|       DODGE|             V|           0|           0|           0|                      0|              null|                 0|              0|          0|          null|        null|         1253P|              BK|                             null|        null|SB RALPH AVE @ BEVER|              LEY RD|                  0|       1180|           B|                      null|                null|              null|         null|        2017|             0|               null| PHTO SCHOOL ZN SP...|\n",
            "| GTS1802|                NY|       PAS|10/28/2016|            21|             SUBN|         BMW|             T|        5680|        7030|        7180|               20181012|                72|                72|             72|     355151|          T302|           Q|         0917A|               K|                                F|         679|             6th Ave|                null|                  0|        408|          d1|                         Y|               0830A|             1000A|           BK|        2014|             0|                CC1| 21-No Parking (st...|\n",
            "| DLE9297|                NY|       PAS|05/30/2017|            21|             SUBN|       HONDA|             T|       60530|       54000|       95030|               20180310|                90|                90|             90|     358630|          T301|           C|         0920A|               K|                                F|          58|    Metropolitan Ave|                null|                  0|        408|          d1|                      Y  Y|               0900A|             1030A|           RD|        2016|             0|                 14| 21-No Parking (st...|\n",
            "| GEX5772|                NY|       PAS|08/20/2016|            16|             4DSD|       TOYOT|             T|           0|           0|           0|               20170418|                47|                47|             47|     355598|          T202|           N|         0710A|              BX|                                I|           S|           Corsa Ave| 10ft W/of Boston Rd|                  0|        408|          k2|                         Y|               0700A|             0400P|           WH|        2001|             0|               B 22| 16A-No Std (Com V...|\n",
            "| HST9539|                PA|       PAS|11/11/2016|            40|              SDN|       ACURA|             P|       17210|       12110|       12210|                      0|                 9|                 9|              9|     959808|          0009|        0000|         0145A|              NY|                                F|         543|         E 11 STREET|                null|                  0|        408|           D|                   BBBBBBB|                 ALL|               ALL|        BLACK|           0|             0|               null|                 null|\n",
            "+--------+------------------+----------+----------+--------------+-----------------+------------+--------------+------------+------------+------------+-----------------------+------------------+------------------+---------------+-----------+--------------+------------+--------------+----------------+---------------------------------+------------+--------------------+--------------------+-------------------+-----------+------------+--------------------------+--------------------+------------------+-------------+------------+--------------+-------------------+---------------------+\n",
            "only showing top 10 rows\n",
            "\n"
          ]
        }
      ]
    },
    {
      "cell_type": "code",
      "source": [
        "#for checking Null values\n",
        "\n",
        "for c in pdf.columns:\n",
        "  \n",
        "  print(c,pdf.where(col(c).isNull()).count()*100/pdf.count())\n"
      ],
      "metadata": {
        "colab": {
          "base_uri": "https://localhost:8080/"
        },
        "id": "_3vtZHec24Pn",
        "outputId": "988f31ea-15ee-4628-b375-926ad9db9343"
      },
      "execution_count": 59,
      "outputs": [
        {
          "output_type": "stream",
          "name": "stdout",
          "text": [
            "Plate ID 0.0\n",
            "Registration State 0.0\n",
            "Plate Type 0.0\n",
            "Issue Date 0.0\n",
            "Violation Code 0.0\n",
            "Vehicle Body Type 0.36758444507522\n",
            "Vehicle Make 0.6741413567981833\n",
            "Issuing Agency 0.0\n",
            "Street Code1 0.0\n",
            "Street Code2 0.0\n",
            "Street Code3 0.0\n",
            "Vehicle Expiration Date 0.0\n",
            "Violation Location 18.508373545273916\n",
            "Violation Precinct 0.0\n",
            "Issuer Precinct 0.0\n",
            "Issuer Code 0.0\n",
            "Issuer Command 18.391995458416122\n",
            "Issuer Squad 18.401930173147885\n",
            "Violation Time 0.0\n",
            "Time First Observed 92.09906329832529\n",
            "Violation County 0.33068407607152994\n",
            "Violation In Front Of Or Opposite 19.30456996877661\n",
            "House Number 20.509508941243258\n",
            "Street Name 0.03548112404200965\n",
            "Intersecting Street 69.5146182231053\n",
            "Date First Observed 0.001419244961680386\n",
            "Law Section 0.001419244961680386\n",
            "Sub Division 0.002838489923360772\n",
            "Violation Legal Code 81.60800454158388\n",
            "Days Parking In Effect     24.499006528526824\n",
            "From Hours In Effect 49.995742265114956\n",
            "To Hours In Effect 49.995742265114956\n",
            "Vehicle Color 1.319897814362759\n",
            "Unregistered Vehicle? 89.78711325574794\n",
            "Vehicle Year 0.001419244961680386\n",
            "Meter Number 83.52540448481408\n",
            "Feet From Curb 0.001419244961680386\n",
            "Violation Post Code 28.60630144762986\n",
            "Violation Description 10.210048254328697\n"
          ]
        }
      ]
    },
    {
      "cell_type": "code",
      "source": [
        "parking.show(10)"
      ],
      "metadata": {
        "colab": {
          "base_uri": "https://localhost:8080/"
        },
        "id": "6KLcVw0wyrbq",
        "outputId": "f22f7781-b918-402e-a3f3-25717e470792"
      },
      "execution_count": 42,
      "outputs": [
        {
          "output_type": "stream",
          "name": "stdout",
          "text": [
            "+--------------+--------+------------------+----------+----------+--------------+-----------------+------------+--------------+------------+------------+------------+-----------------------+------------------+------------------+---------------+-----------+--------------+------------+--------------+-------------------+----------------+---------------------------------+------------+--------------------+--------------------+-------------------+-----------+------------+--------------------+--------------------------+--------------------+------------------+-------------+---------------------+------------+------------+--------------+-------------------+---------------------+---------------------------------+-----------------+------------------------+\n",
            "|Summons Number|Plate ID|Registration State|Plate Type|Issue Date|Violation Code|Vehicle Body Type|Vehicle Make|Issuing Agency|Street Code1|Street Code2|Street Code3|Vehicle Expiration Date|Violation Location|Violation Precinct|Issuer Precinct|Issuer Code|Issuer Command|Issuer Squad|Violation Time|Time First Observed|Violation County|Violation In Front Of Or Opposite|House Number|         Street Name| Intersecting Street|Date First Observed|Law Section|Sub Division|Violation Legal Code|Days Parking In Effect    |From Hours In Effect|To Hours In Effect|Vehicle Color|Unregistered Vehicle?|Vehicle Year|Meter Number|Feet From Curb|Violation Post Code|Violation Description|No Standing or Stopping Violation|Hydrant Violation|Double Parking Violation|\n",
            "+--------------+--------+------------------+----------+----------+--------------+-----------------+------------+--------------+------------+------------+------------+-----------------------+------------------+------------------+---------------+-----------+--------------+------------+--------------+-------------------+----------------+---------------------------------+------------+--------------------+--------------------+-------------------+-----------+------------+--------------------+--------------------------+--------------------+------------------+-------------+---------------------+------------+------------+--------------+-------------------+---------------------+---------------------------------+-----------------+------------------------+\n",
            "|    8516654059|  AP169V|                NJ|       PAS|02/22/2017|            18|             DELV|       INTER|             T|       10010|       18490|       18510|               88880088|                19|                19|             19|     356214|          T103|          CC|         0857A|               null|              NY|                                F|        1456|             1st Ave|                null|                  0|        408|          f4|                null|                     YYYYY|               0700A|             1000A|        OTHER|                 null|           0|        null|             0|                CC1| 18-No Stand (bus ...|                             null|             null|                    null|\n",
            "|    8487469012| 27527ME|                NY|       COM|01/27/2017|            74|             DELV|       INTER|             T|       37290|       16740|       16890|               20170930|               110|               110|            110|     357733|          T401|           A|         1006A|               null|               Q|                                F|       81-24|            Broadway|                null|                  0|        408|          j2|                null|                      null|                null|              null|           WH|                 null|        2003|        null|             0|                 45| 74-Missing Displa...|                             null|             null|                    null|\n",
            "|    7623299300|  530LAW|                FL|       PAS|07/23/2016|            20|             SUBN|       CITRO|             T|       73430|           0|           0|               20170688|                71|                71|             71|     343712|          T730|           A|         0746A|               null|               K|                                I|           E|       Rochester Ave|30ft S/of Eastern Pk|                  0|        408|           d|                null|                         Y|               0700A|             1000A|         GREY|                 null|           0|        null|             0|               02 3| 20A-No Parking (N...|                             null|             null|                    null|\n",
            "|    8511777581| GBP8071|                NY|       PAS|06/23/2017|            21|             4DSD|       HONDA|             T|       29690|       21698|       32595|               20180930|                30|                30|             30|     346020|          T103|          AA|         1123A|               null|              NY|                                F|         534|        Riverside Dr|                null|                  0|        408|          d1|                null|                      Y  Y|               1100A|             1230A|           BK|                 null|        2015|        null|             0|                CC3| 21-No Parking (st...|                             null|             null|                    null|\n",
            "|    4635118952| HAR2738|                NY|       PAS|06/15/2017|            36|             SUBN|       CHEVR|             V|           0|           0|           0|                      0|              null|                 0|              0|          0|          null|        null|         0820A|               null|              QN|                             null|        null|EB HILLSIDE AVE @ MA|              NOR RD|                  0|       1180|           B|                   T|                      null|                null|              null|           BK|                 null|        2015|        null|             0|               null| PHTO SCHOOL ZN SP...|                             null|             null|                    null|\n",
            "|    4630907488| EHN4305|                NC|       PAS|02/16/2017|            36|               MP|       DODGE|             V|           0|           0|           0|                      0|              null|                 0|              0|          0|          null|        null|         1253P|               null|              BK|                             null|        null|SB RALPH AVE @ BEVER|              LEY RD|                  0|       1180|           B|                   T|                      null|                null|              null|         null|                 null|        2017|        null|             0|               null| PHTO SCHOOL ZN SP...|                             null|             null|                    null|\n",
            "|    8395519370| GTS1802|                NY|       PAS|10/28/2016|            21|             SUBN|         BMW|             T|        5680|        7030|        7180|               20181012|                72|                72|             72|     355151|          T302|           Q|         0917A|               null|               K|                                F|         679|             6th Ave|                null|                  0|        408|          d1|                null|                         Y|               0830A|             1000A|           BK|                 null|        2014|        null|             0|                CC1| 21-No Parking (st...|                             null|             null|                    null|\n",
            "|    8537968262| DLE9297|                NY|       PAS|05/30/2017|            21|             SUBN|       HONDA|             T|       60530|       54000|       95030|               20180310|                90|                90|             90|     358630|          T301|           C|         0920A|               null|               K|                                F|          58|    Metropolitan Ave|                null|                  0|        408|          d1|                null|                      Y  Y|               0900A|             1030A|           RD|                 null|        2016|        null|             0|                 14| 21-No Parking (st...|                             null|             null|                    null|\n",
            "|    8290557255| GEX5772|                NY|       PAS|08/20/2016|            16|             4DSD|       TOYOT|             T|           0|           0|           0|               20170418|                47|                47|             47|     355598|          T202|           N|         0710A|               null|              BX|                                I|           S|           Corsa Ave| 10ft W/of Boston Rd|                  0|        408|          k2|                null|                         Y|               0700A|             0400P|           WH|                 null|        2001|        null|             0|               B 22| 16A-No Std (Com V...|                             null|             null|                    null|\n",
            "|    1410838730| HST9539|                PA|       PAS|11/11/2016|            40|              SDN|       ACURA|             P|       17210|       12110|       12210|                      0|                 9|                 9|              9|     959808|          0009|        0000|         0145A|               null|              NY|                                F|         543|         E 11 STREET|                null|                  0|        408|           D|                null|                   BBBBBBB|                 ALL|               ALL|        BLACK|                    0|           0|           -|             0|               null|                 null|                             null|             null|                    null|\n",
            "+--------------+--------+------------------+----------+----------+--------------+-----------------+------------+--------------+------------+------------+------------+-----------------------+------------------+------------------+---------------+-----------+--------------+------------+--------------+-------------------+----------------+---------------------------------+------------+--------------------+--------------------+-------------------+-----------+------------+--------------------+--------------------------+--------------------+------------------+-------------+---------------------+------------+------------+--------------+-------------------+---------------------+---------------------------------+-----------------+------------------------+\n",
            "only showing top 10 rows\n",
            "\n"
          ]
        }
      ]
    },
    {
      "cell_type": "code",
      "source": [
        "\n",
        "from pyspark.sql.functions import col,isnan,when,count\n",
        "parking.select([(count(when(isnan(c) | col(c).isNull(), c))*100/(count(c))).alias(c) for c in parking.columns]\n",
        "   ).show()"
      ],
      "metadata": {
        "colab": {
          "base_uri": "https://localhost:8080/"
        },
        "id": "jzoONiEXqzfK",
        "outputId": "40beabfc-0b83-4a8c-9d7a-d9af06210053"
      },
      "execution_count": 31,
      "outputs": [
        {
          "output_type": "stream",
          "name": "stdout",
          "text": [
            "+--------------+--------+------------------+----------+----------+--------------+-------------------+------------------+--------------+------------+------------+------------+-----------------------+------------------+------------------+---------------+-----------+-----------------+------------------+--------------+-------------------+------------------+---------------------------------+----------------+-------------------+-------------------+--------------------+--------------------+--------------------+--------------------+--------------------------+--------------------+------------------+-----------------+---------------------+--------------------+-----------------+--------------------+-------------------+---------------------+---------------------------------+-----------------+------------------------+\n",
            "|Summons Number|Plate ID|Registration State|Plate Type|Issue Date|Violation Code|  Vehicle Body Type|      Vehicle Make|Issuing Agency|Street Code1|Street Code2|Street Code3|Vehicle Expiration Date|Violation Location|Violation Precinct|Issuer Precinct|Issuer Code|   Issuer Command|      Issuer Squad|Violation Time|Time First Observed|  Violation County|Violation In Front Of Or Opposite|    House Number|        Street Name|Intersecting Street| Date First Observed|         Law Section|        Sub Division|Violation Legal Code|Days Parking In Effect    |From Hours In Effect|To Hours In Effect|    Vehicle Color|Unregistered Vehicle?|        Vehicle Year|     Meter Number|      Feet From Curb|Violation Post Code|Violation Description|No Standing or Stopping Violation|Hydrant Violation|Double Parking Violation|\n",
            "+--------------+--------+------------------+----------+----------+--------------+-------------------+------------------+--------------+------------+------------+------------+-----------------------+------------------+------------------+---------------+-----------+-----------------+------------------+--------------+-------------------+------------------+---------------------------------+----------------+-------------------+-------------------+--------------------+--------------------+--------------------+--------------------+--------------------------+--------------------+------------------+-----------------+---------------------+--------------------+-----------------+--------------------+-------------------+---------------------+---------------------------------+-----------------+------------------------+\n",
            "|           0.0|     0.0|               0.0|       0.0|       0.0|           0.0|0.36894061338157574|0.6787168679002643|           0.0|         0.0|         0.0|         0.0|                    0.0|22.711994287605147|               0.0|            0.0|        0.0|22.53699935653293|22.551918461056808|           0.0|   1165.67271420873|0.3317812237458527|               23.922754933342713|25.8012105197379|0.03549371761198268| 228.02607076350094|0.001419265104528875|0.001419265104528875|0.002838570495898...|  443.71479280808705|         32.44858829279296|   99.98297051060085| 99.98297051060085|1.337552135768733|    879.1550861589772|0.001419265104528875|506.9951757408684|0.001419265104528875|  40.06838422391858|    11.37103657572788|                             null|             null|                    null|\n",
            "+--------------+--------+------------------+----------+----------+--------------+-------------------+------------------+--------------+------------+------------+------------+-----------------------+------------------+------------------+---------------+-----------+-----------------+------------------+--------------+-------------------+------------------+---------------------------------+----------------+-------------------+-------------------+--------------------+--------------------+--------------------+--------------------+--------------------------+--------------------+------------------+-----------------+---------------------+--------------------+-----------------+--------------------+-------------------+---------------------+---------------------------------+-----------------+------------------------+\n",
            "\n"
          ]
        }
      ]
    }
  ]
}